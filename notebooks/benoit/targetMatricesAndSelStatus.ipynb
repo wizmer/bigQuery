{
 "cells": [
  {
   "cell_type": "code",
   "execution_count": 46,
   "metadata": {
    "collapsed": false
   },
   "outputs": [
    {
     "name": "stdout",
     "output_type": "stream",
     "text": [
      "Populating the interactive namespace from numpy and matplotlib\n"
     ]
    }
   ],
   "source": [
    "%pylab inline\n",
    "import pandas as pd\n",
    "import numpy as np\n",
    "from matplotlib.colors import LogNorm\n",
    "\n",
    "def plot_matrix(frame, **args):\n",
    "    from matplotlib.colors import LogNorm\n",
    "    x,y = np.meshgrid(np.array(frame.index,   dtype=float),\n",
    "                      np.array(frame.columns, dtype=float))\n",
    "    z = frame.T.values.astype(float)\n",
    "    ret = gca().pcolor(y,x,z, **args)\n",
    "    (lambda x: xlim(x[0],x[-1]))(frame.columns)\n",
    "    (lambda x: ylim(x[0],x[-1]))(frame.index  ) \n",
    "    return ret"
   ]
  },
  {
   "cell_type": "code",
   "execution_count": 64,
   "metadata": {
    "collapsed": false
   },
   "outputs": [
    {
     "data": {
      "image/png": "[encoded data removed]",
      "text/plain": [
       "<matplotlib.figure.Figure at 0x7f758e4c9690>"
      ]
     },
     "metadata": {},
     "output_type": "display_data"
    }
   ],
   "source": [
    "def plot_target_matrix(frame):\n",
    "    cc1 = plot_matrix(frame.ix[frame.index[:-1]][frame.columns[:-1]],\n",
    "               norm=LogNorm(vmin=1,vmax=10**6))\n",
    "    colorbar(cc1)\n",
    "    xlabel(\"$\\\\beta$ True\")\n",
    "    ylabel(\"$\\\\beta$ Measured\")\n",
    "\n",
    "frame2097151=pd.read_csv(\"../mcmc_py/datasets/observed_data_selStatus2097151.txt\", sep=' ', header=None)\n",
    "frame2097137=pd.read_csv(\"../mcmc_py/datasets/observed_data_selStatus2097137.txt\", sep=' ', header=None)\n",
    "frame1972401=pd.read_csv(\"../mcmc_py/datasets/observed_data_selStatus177.txt\", sep=' ', header=None)\n",
    "\n",
    "figsize(20,10)\n",
    "subplot(131)\n",
    "plot_target_matrix(frame2097151)\n",
    "\n",
    "subplot(132)\n",
    "plot_target_matrix(frame2097137)\n",
    "\n",
    "subplot(133)\n",
    "plot_target_matrix(frame1972401)\n",
    "\n"
   ]
  },
  {
   "cell_type": "code",
   "execution_count": 65,
   "metadata": {
    "collapsed": false
   },
   "outputs": [
    {
     "name": "stdout",
     "output_type": "stream",
     "text": [
      "      0     1      2      3      4      5      6      7      8       9   \\\n",
      "0   2178  1361    558    251    188    199    132     77     48      26   \n",
      "1   2989  2122    971    389    242    235    178    100     43      27   \n",
      "2   3894  3078   1663    648    290    251    233    149     70      36   \n",
      "3   4817  4525   2611   1057    380    292    290    221    103      61   \n",
      "4   5219  6304   4418   1828    553    330    297    311    168      73   \n",
      "5   5035  7928   6660   3440   1147    393    359    387    240     123   \n",
      "6   3985  8933  10045   5819   2245    668    333    474    395     199   \n",
      "7   2624  8186  13141  10430   4745   1407    492    485    524     356   \n",
      "8   1355  6404  14648  16681   9654   3430    918    526    628     562   \n",
      "9    556  3415  12598  22422  19618   8826   2589    747    669     801   \n",
      "10   203  1430   7598  22386  31076  21259   7705   1945    789     968   \n",
      "11    59   451   3208  14698  34690  39495  22561   7466   1988    1062   \n",
      "12    34   118    899   5723  23773  49855  50442  27075   9078    2629   \n",
      "13    16    48    190   1401   8806  33509  66065  67096  37985   14422   \n",
      "14    15    28     49    275   1921  10982  40563  80719  90456   63615   \n",
      "15    75    56     51     87    270   1799  10231  38129  83333  112509   \n",
      "16   473   342    255    259    212    335   1345   6707  25118   61466   \n",
      "17   961   902    773    661    620    502    590    999   3125   10646   \n",
      "18   483   575    570    506    536    489    376    417    555    1097   \n",
      "19   101    96     99    114    100    101     86     88    106     153   \n",
      "20    17    14     22     22     13      8     13     23     22      25   \n",
      "21     9     4      5      7      5      3      2      3      7       8   \n",
      "22     3     6      3      3      1      0      3      1      2       4   \n",
      "23     1     0      3      3      1      1      1      0      1       3   \n",
      "24     0     0      0      0      0      0      1      0      0       0   \n",
      "25     0     0      0      0      0      0      0      0      0       1   \n",
      "26     0     0      0      0      0      0      0      0      0       0   \n",
      "27  5016  2735   1487   1000    784    587    338    206    106      56   \n",
      "\n",
      "     ...        15     16     17     18     19     20     21     22     23  \\\n",
      "0    ...         0      1      0      0      0      0      0      0      0   \n",
      "1    ...         0      0      0      0      0      0      0      0      0   \n",
      "2    ...         0      0      0      0      0      0      0      0      0   \n",
      "3    ...         0      0      0      0      0      0      0      0      0   \n",
      "4    ...         2      0      0      0      0      1      0      0      0   \n",
      "5    ...         2      0      0      0      0      0      0      0      0   \n",
      "6    ...         2      0      0      0      0      0      0      0      0   \n",
      "7    ...         6      0      0      0      0      0      0      0      0   \n",
      "8    ...         8      0      0      0      1      0      0      0      0   \n",
      "9    ...        18      4      3      0      0      1      0      0      0   \n",
      "10   ...        33     11      3      5      5      1      1      1      1   \n",
      "11   ...        65     33     19      7      8      8      7      3      5   \n",
      "12   ...       210    109     84     29     23     25     17     10     13   \n",
      "13   ...       568    342    207    150    100     72     53     44     19   \n",
      "14   ...      2311   1344    855    537    442    309    233    216    165   \n",
      "15   ...     12144   8401   5734   4093   2867   2208   1688   1240   1099   \n",
      "16   ...     63528  49375  38329  29652  23077  18143  14106  11122   8895   \n",
      "17   ...    106964  99610  89337  78149  67275  57240  47959  40155  33416   \n",
      "18   ...     40549  45424  47768  46992  44902  41016  37263  32474  28182   \n",
      "19   ...      4917   6270   7075   7708   7953   7745   7183   6576   5818   \n",
      "20   ...       432    559    684    708    757    724    763    633    584   \n",
      "21   ...        70     98    114     84    112     90    102    103     71   \n",
      "22   ...        29     20     23     21     27     28     25     10     11   \n",
      "23   ...         7      9     14     10      7      7      6      7      6   \n",
      "24   ...         0      0      0      1      0      0      1      1      0   \n",
      "25   ...         0      0      0      0      2      1      0      0      0   \n",
      "26   ...         1      0      0      0      1      0      0      0      0   \n",
      "27   ...         8     12     12      9      5      7      3      2      1   \n",
      "\n",
      "        24  \n",
      "0     4596  \n",
      "1     4753  \n",
      "2     4433  \n",
      "3     4001  \n",
      "4     3207  \n",
      "5     2211  \n",
      "6     1258  \n",
      "7      653  \n",
      "8      298  \n",
      "9      181  \n",
      "10     183  \n",
      "11     199  \n",
      "12     390  \n",
      "13     833  \n",
      "14    1992  \n",
      "15    7618  \n",
      "16   49704  \n",
      "17  187227  \n",
      "18  175621  \n",
      "19   39472  \n",
      "20    4198  \n",
      "21     639  \n",
      "22     152  \n",
      "23      64  \n",
      "24       1  \n",
      "25       0  \n",
      "26       1  \n",
      "27   25435  \n",
      "\n",
      "[28 rows x 25 columns]\n",
      "       0      1      2      3      4       5       6       7       8       9   \\\n",
      "0   15237  11129   6653   4606   4105    3964    3080    2018    1187     743   \n",
      "1   18222  14021   8601   5581   4630    4587    3746    2656    1588     885   \n",
      "2   20759  17689  11680   6900   5139    5065    4572    3360    2099    1169   \n",
      "3   22651  22336  15620   8924   5991    5783    5648    4552    2873    1623   \n",
      "4   22978  27803  21394  12565   7246    6069    6629    5866    3849    2153   \n",
      "5   20737  31876  29189  18274   9842    6803    7379    7490    5578    3183   \n",
      "6   16243  33275  38092  26972  14716    8172    7873    9046    7782    4738   \n",
      "7   11111  29561  45967  40264  23386   11765    8491    9908   10385    7340   \n",
      "8    6683  22180  47838  56047  38238   19213   10590   10327   12507   10767   \n",
      "9    3834  13244  39668  68241  62840   35065   16836   11190   13486   14847   \n",
      "10   2551   7163  25035  64489  89141   66238   32632   16089   13585   17657   \n",
      "11   1953   3962  12657  43102  94531  109307   69737   32327   17264   17921   \n",
      "12   1695   2539   5860  20052  66167  129524  134026   81298   36981   21245   \n",
      "13   1668   2096   3369   8239  29145   90176  167005  171416  106626   51637   \n",
      "14   2022   2216   2736   4209  10316   35519  106277  200702  223770  164701   \n",
      "15   3227   3032   2993   3497   4980   10971   33802  101426  205976  272792   \n",
      "16   7148   5998   5545   4995   5140    6318   10331   25568   71444  156460   \n",
      "17  11880  10740   9577   8680   7876    7583    7921    9519   16027   35834   \n",
      "18   6612   6758   6400   6064   5699    5406    4985    5063    5776    7707   \n",
      "19   2012   2065   1977   1929   1928    1739    1719    1696    1763    2024   \n",
      "20    852    839    751    724    721     625     617     609     668     688   \n",
      "21    411    398    399    362    361     337     312     258     287     285   \n",
      "22    275    244    215    193    210     189     180     179     134     164   \n",
      "23    196    181    140    181    134     136     137     132      93      93   \n",
      "24      6     13      7     13      7       8      12      17       8      12   \n",
      "25     27     22     25     14     16      16       7      11      17      10   \n",
      "26     16     22     22     20     18      12      11      10       9       9   \n",
      "27  78300  55570  40645  33048  27680   21470   15872   11040    7691    5675   \n",
      "\n",
      "     ...         15      16      17      18      19      20      21      22  \\\n",
      "0    ...         71      55      35      38      30      21      11      16   \n",
      "1    ...         68      64      55      36      31      28      18      21   \n",
      "2    ...         81      67      56      46      32      25      19      23   \n",
      "3    ...         84      93      64      53      40      22      26      24   \n",
      "4    ...        129      95      74      62      43      40      24      22   \n",
      "5    ...        159      94      94      91      48      44      35      27   \n",
      "6    ...        160     128      84      50      56      43      44      30   \n",
      "7    ...        206     152     117      98      84      62      55      41   \n",
      "8    ...        317     214     157     118      88      72      71      54   \n",
      "9    ...        459     288     202     158     122      93      65      47   \n",
      "10   ...        689     419     271     225     143     121      96      61   \n",
      "11   ...       1145     694     446     295     230     188     136     110   \n",
      "12   ...       2239    1348     807     505     394     287     206     188   \n",
      "13   ...       5412    2864    1676    1105     759     563     458     285   \n",
      "14   ...      19382    8986    4745    2949    2059    1453    1057     847   \n",
      "15   ...      70373   47096   26416   15092    9559    6637    4922    3633   \n",
      "16   ...     177298  156973  133091  103685   75854   54213   38753   28996   \n",
      "17   ...     251864  236745  219002  201518  183809  163692  140754  118590   \n",
      "18   ...      98312  108560  112328  110022  104784   96349   87834   78777   \n",
      "19   ...      13837   16487   18484   19233   19560   18929   17663   15896   \n",
      "20   ...       1891    2083    2292    2381    2275    2238    2126    1912   \n",
      "21   ...        437     503     525     448     469     416     434     397   \n",
      "22   ...        194     180     167     184     140     155     150     117   \n",
      "23   ...        108      95      98      79      68      69      70      63   \n",
      "24   ...          7       1       3       7       1       4       6       2   \n",
      "25   ...         15       4       9       4      10       6       4       2   \n",
      "26   ...          8       9       5       3       6       3       0       7   \n",
      "27   ...       1988    1705    1578    1297    1125    1037     868     683   \n",
      "\n",
      "       23       24  \n",
      "0      14    45397  \n",
      "1      18    44044  \n",
      "2      16    41870  \n",
      "3      20    39428  \n",
      "4      13    36693  \n",
      "5      17    34926  \n",
      "6      32    34765  \n",
      "7      27    36771  \n",
      "8      40    40651  \n",
      "9      44    47205  \n",
      "10     52    56458  \n",
      "11     89    70025  \n",
      "12    118    87364  \n",
      "13    237   112326  \n",
      "14    675   151491  \n",
      "15   2997   223706  \n",
      "16  22184   421052  \n",
      "17  98117   920709  \n",
      "18  69655   726154  \n",
      "19  14250   196165  \n",
      "20   1723    57511  \n",
      "21    329    26566  \n",
      "22    106    17487  \n",
      "23     54    15294  \n",
      "24      2     1548  \n",
      "25      4     2165  \n",
      "26      1     2508  \n",
      "27    592  2513631  \n",
      "\n",
      "[28 rows x 25 columns]\n"
     ]
    }
   ],
   "source": [
    "print frame2097151\n",
    "print frame1972401"
   ]
  },
  {
   "cell_type": "code",
   "execution_count": null,
   "metadata": {
    "collapsed": true
   },
   "outputs": [],
   "source": []
  },
  {
   "cell_type": "code",
   "execution_count": null,
   "metadata": {
    "collapsed": true
   },
   "outputs": [],
   "source": []
  },
  {
   "cell_type": "code",
   "execution_count": 45,
   "metadata": {
    "collapsed": false
   },
   "outputs": [
    {
     "data": {
      "text/plain": [
       "<matplotlib.text.Text at 0x7f759139ed50>"
      ]
     },
     "execution_count": 45,
     "metadata": {},
     "output_type": "execute_result"
    },
    {
     "data": {
      "image/png": "[encoded data removed]",
      "text/plain": [
       "<matplotlib.figure.Figure at 0x7f75916a9e50>"
      ]
     },
     "metadata": {},
     "output_type": "display_data"
    }
   ],
   "source": []
  },
  {
   "cell_type": "code",
   "execution_count": null,
   "metadata": {
    "collapsed": true
   },
   "outputs": [],
   "source": []
  },
  {
   "cell_type": "code",
   "execution_count": null,
   "metadata": {
    "collapsed": true
   },
   "outputs": [],
   "source": []
  },
  {
   "cell_type": "code",
   "execution_count": null,
   "metadata": {
    "collapsed": true
   },
   "outputs": [],
   "source": []
  }
 ],
 "metadata": {
  "kernelspec": {
   "display_name": "Python 2",
   "language": "python",
   "name": "python2"
  },
  "language_info": {
   "codemirror_mode": {
    "name": "ipython",
    "version": 2
   },
   "file_extension": ".py",
   "mimetype": "text/x-python",
   "name": "python",
   "nbconvert_exporter": "python",
   "pygments_lexer": "ipython2",
   "version": "2.7.6"
  }
 },
 "nbformat": 4,
 "nbformat_minor": 0
}
