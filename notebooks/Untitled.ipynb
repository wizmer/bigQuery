{
 "cells": [
  {
   "cell_type": "code",
   "execution_count": 1,
   "metadata": {
    "collapsed": false
   },
   "outputs": [
    {
     "name": "stdout",
     "output_type": "stream",
     "text": [
      "Populating the interactive namespace from numpy and matplotlib\n"
     ]
    }
   ],
   "source": [
    "%pylab inline"
   ]
  },
  {
   "cell_type": "code",
   "execution_count": 2,
   "metadata": {
    "collapsed": true
   },
   "outputs": [],
   "source": [
    "# That'd be true flux\n",
    "flux = np.array([100,150,200,150,100])"
   ]
  },
  {
   "cell_type": "code",
   "execution_count": 3,
   "metadata": {
    "collapsed": false
   },
   "outputs": [
    {
     "data": {
      "text/plain": [
       "array([[ 0.90909091,  0.15384615,  0.        ,  0.        ,  0.        ],\n",
       "       [ 0.09090909,  0.76923077,  0.15384615,  0.        ,  0.        ],\n",
       "       [ 0.        ,  0.07692308,  0.76923077,  0.15384615,  0.        ],\n",
       "       [ 0.        ,  0.        ,  0.07692308,  0.76923077,  0.16666667],\n",
       "       [ 0.        ,  0.        ,  0.        ,  0.07692308,  0.83333333]])"
      ]
     },
     "execution_count": 3,
     "metadata": {},
     "output_type": "execute_result"
    }
   ],
   "source": [
    "# Making up a matrix\n",
    "import itertools\n",
    "\n",
    "dkt = {0:10, 1:1, -1:2}\n",
    "\n",
    "cov = np.zeros((len(flux),len(flux)))\n",
    "for i,j in itertools.product(*([range(len(flux))]*2)):\n",
    "    cov[i,j] = dkt.get(i-j,0)\n",
    "        \n",
    "cov /= cov.sum(axis=0)\n",
    "cov"
   ]
  },
  {
   "cell_type": "code",
   "execution_count": 4,
   "metadata": {
    "collapsed": false
   },
   "outputs": [
    {
     "data": {
      "text/plain": [
       "array([ 113.98601399,  155.24475524,  188.46153846,  147.43589744,\n",
       "         94.87179487])"
      ]
     },
     "execution_count": 4,
     "metadata": {},
     "output_type": "execute_result"
    }
   ],
   "source": [
    "cov.dot(flux)"
   ]
  },
  {
   "cell_type": "code",
   "execution_count": 5,
   "metadata": {
    "collapsed": false
   },
   "outputs": [
    {
     "data": {
      "text/plain": [
       "<matplotlib.legend.Legend at 0x2eb8190>"
      ]
     },
     "execution_count": 5,
     "metadata": {},
     "output_type": "execute_result"
    },
    {
     "data": {
      "image/png": "[encoded data removed]",
      "text/plain": [
       "<matplotlib.figure.Figure at 0x2e5dd50>"
      ]
     },
     "metadata": {},
     "output_type": "display_data"
    }
   ],
   "source": [
    "plot(range(len(flux)),flux, 'o-', label=\"True\")\n",
    "plot(range(len(flux)),cov.dot(flux), 'o-', label=\"Observed\")\n",
    "xlim(-1,5); ylim(0,300);legend()"
   ]
  },
  {
   "cell_type": "code",
   "execution_count": 6,
   "metadata": {
    "collapsed": false
   },
   "outputs": [],
   "source": [
    "import MCMC"
   ]
  },
  {
   "cell_type": "code",
   "execution_count": 7,
   "metadata": {
    "collapsed": false
   },
   "outputs": [],
   "source": [
    "mcmc = MCMC.MCMC(\"testtest\", flux[:], flux[:])"
   ]
  },
  {
   "cell_type": "code",
   "execution_count": 8,
   "metadata": {
    "collapsed": false
   },
   "outputs": [],
   "source": [
    "alpha = 0.1\n",
    "observed = cov.dot(flux)\n",
    "\n",
    "def logp(value):\n",
    "    value = np.array(value)\n",
    "    if (value < 0).any(): return -np.inf\n",
    "    \n",
    "    expected = cov.dot(value)\n",
    "    log = (observed*np.log(expected) - expected).sum()\n",
    "\n",
    "    firstDerivative = np.diff(np.log(value))\n",
    "    secondDerivative = np.fabs(np.diff(firstDerivative))\n",
    "    smoothness = -(alpha * secondDerivative).sum()\n",
    "\n",
    "    return log + smoothness\n",
    "\n",
    "\n",
    "mcmc.setLogLikelihoodFunction(logp)\n",
    "mcmc.setSteps(10000)"
   ]
  },
  {
   "cell_type": "code",
   "execution_count": 9,
   "metadata": {
    "collapsed": false
   },
   "outputs": [
    {
     "name": "stdout",
     "output_type": "stream",
     "text": [
      "save metadata\n",
      "0/10000 : 0%\n",
      "step number9364\n",
      "saving chunk...\n",
      "df done\n",
      "file opened\n",
      "file closed\n",
      "chunk saved\n"
     ]
    }
   ],
   "source": [
    "mcmc.start()\n",
    "mcmc.join()"
   ]
  },
  {
   "cell_type": "code",
   "execution_count": 10,
   "metadata": {
    "collapsed": false
   },
   "outputs": [],
   "source": [
    "import pandas as pd\n",
    "import cPickle as pickle"
   ]
  },
  {
   "cell_type": "code",
   "execution_count": 11,
   "metadata": {
    "collapsed": false
   },
   "outputs": [
    {
     "name": "stdout",
     "output_type": "stream",
     "text": [
      "{'nVar': 5, 'initialPoints': array([100, 150, 200, 150, 100]), 'realValues': array([100, 150, 200, 150, 100]), 'nStep': 10000, 'sigmas': [1, 1, 1, 1, 1]}\n"
     ]
    }
   ],
   "source": [
    "f = open(\"testtest\", \"rb\")\n",
    "print pickle.load(f)\n",
    "frame = pickle.load(f)\n",
    "f.close()"
   ]
  },
  {
   "cell_type": "code",
   "execution_count": 16,
   "metadata": {
    "collapsed": false
   },
   "outputs": [
    {
     "data": {
      "text/plain": [
       "(0, 150)"
      ]
     },
     "execution_count": 16,
     "metadata": {},
     "output_type": "execute_result"
    },
    {
     "data": {
      "image/png": "[encoded data removed]",
      "text/plain": [
       "<matplotlib.figure.Figure at 0x461c9d0>"
      ]
     },
     "metadata": {},
     "output_type": "display_data"
    }
   ],
   "source": [
    "frame[0].hist(bins=np.linspace(0,150,100))\n",
    "xlim(0,150)"
   ]
  }
 ],
 "metadata": {
  "kernelspec": {
   "display_name": "Python 2",
   "language": "python",
   "name": "python2"
  },
  "language_info": {
   "codemirror_mode": {
    "name": "ipython",
    "version": 2
   },
   "file_extension": ".py",
   "mimetype": "text/x-python",
   "name": "python",
   "nbconvert_exporter": "python",
   "pygments_lexer": "ipython2",
   "version": "2.7.6"
  }
 },
 "nbformat": 4,
 "nbformat_minor": 0
}
