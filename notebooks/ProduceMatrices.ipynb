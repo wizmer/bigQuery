{
 "cells": [
  {
   "cell_type": "code",
   "execution_count": 1,
   "metadata": {
    "collapsed": false
   },
   "outputs": [
    {
     "name": "stdout",
     "output_type": "stream",
     "text": [
      "Populating the interactive namespace from numpy and matplotlib\n"
     ]
    }
   ],
   "source": [
    "%pylab inline"
   ]
  },
  {
   "cell_type": "code",
   "execution_count": 2,
   "metadata": {
    "collapsed": true
   },
   "outputs": [],
   "source": [
    "import pandas as pd"
   ]
  },
  {
   "cell_type": "code",
   "execution_count": 5,
   "metadata": {
    "collapsed": false
   },
   "outputs": [],
   "source": [
    "!cp ../mcmc_py/pd_model.py .\n",
    "from pd_model import *"
   ]
  },
  {
   "cell_type": "code",
   "execution_count": 6,
   "metadata": {
    "collapsed": true
   },
   "outputs": [],
   "source": [
    "import seaborn as s\n",
    "from matplotlib.colors import LogNorm\n",
    "s.set(rc={'image.cmap': \"jet\"})\n",
    "figsize(12,10)\n",
    "rcParams['figure.facecolor'] = (1,1,1,1)\n",
    "rcParams['savefig.facecolor'] = (1,1,1,1)\n"
   ]
  },
  {
   "cell_type": "code",
   "execution_count": 5,
   "metadata": {
    "collapsed": true
   },
   "outputs": [],
   "source": [
    "def plot_matrix(frame, **args):\n",
    "    from matplotlib.colors import LogNorm\n",
    "    x,y = np.meshgrid(np.array(frame.index,   dtype=float),\n",
    "                      np.array(frame.columns, dtype=float))\n",
    "    z = frame.T.values.astype(float)\n",
    "    ret = gca().pcolor(y,x,z, **args)\n",
    "    (lambda x: xlim(x[0],x[-1]))(frame.columns)\n",
    "    (lambda x: ylim(x[0],x[-1]))(frame.index  ) \n",
    "    return ret"
   ]
  },
  {
   "cell_type": "markdown",
   "metadata": {},
   "source": [
    "#Make binnings"
   ]
  },
  {
   "cell_type": "code",
   "execution_count": 6,
   "metadata": {
    "collapsed": false
   },
   "outputs": [],
   "source": [
    "#\n",
    "# \"Theoretical\" binning (the one we will look the spectrum for)\n",
    "#  is bootstrapped from R-vs-beta curves for D and P \n",
    "#\n",
    "def make_beta_bins(beta):\n",
    "    bbins = []\n",
    "    for i in range(10):\n",
    "        bbins.append(beta)\n",
    "        beta = beta_from_R(R_from_beta(beta,md),mp)\n",
    "    return bbins\n",
    "\n",
    "bbins = make_beta_bins(0.5)\n",
    "bbins += make_beta_bins((bbins[1]+bbins[0])/2)\n",
    "bbins = sorted(bbins)\n",
    "\n",
    "mid1,mid2 = (bbins[1]+bbins[0])/2,(bbins[2]+bbins[1])/2\n",
    "bbins += make_beta_bins(mid1)\n",
    "bbins += make_beta_bins(mid2)\n",
    "bbins = np.array(sorted(bbins))\n",
    "\n",
    "betaTheoretic, rgdtTheoretic = np.array([bbins, R_from_beta(bbins, mp)])"
   ]
  },
  {
   "cell_type": "code",
   "execution_count": null,
   "metadata": {
    "collapsed": false
   },
   "outputs": [],
   "source": [
    "rcParams['savefig.dpi'] = 160\n",
    "figsize(8,4)\n",
    "for b in betaTheoretic:plot([0,10],[b,b],'k',lw=0.5)\n",
    "for R in rgdtTheoretic:plot([R,R], [0.5,1],'k',lw=0.5)\n",
    "xlabel(\"R theoretic\")\n",
    "ylabel(\"$\\\\beta$ theoretic\")\n",
    "xlim(rgdtTheoretic[0],10)\n",
    "ylim(0.49,1)\n",
    "\n",
    "x = np.linspace(0,10,100)\n",
    "plot(x, beta_from_R(x,mp),'r')\n",
    "plot(x, beta_from_R(x,md),'b')"
   ]
  },
  {
   "cell_type": "code",
   "execution_count": 7,
   "metadata": {
    "collapsed": false
   },
   "outputs": [],
   "source": [
    "#\n",
    "# Measured values binnings are not very fancy\n",
    "#\n",
    "betaMeasured = 1/np.linspace(0.5,2,28)\n",
    "betaMeasured.sort()\n",
    "\n",
    "rgdtMeasured = np.logspace(-5.0 / 19, 1, 25)"
   ]
  },
  {
   "cell_type": "code",
   "execution_count": null,
   "metadata": {
    "collapsed": false
   },
   "outputs": [],
   "source": [
    "rcParams['savefig.dpi'] = 160\n",
    "figsize(8,4)\n",
    "for b in betaMeasured:plot([0,10],[b,b],'k',lw=0.5)\n",
    "for R in rgdtMeasured:plot([R,R], [0.5,1.2],'k',lw=0.5)\n",
    "xlabel(\"R measured\")\n",
    "ylabel(\"$\\\\beta$ measured\")\n",
    "xlim(rgdtTheoretic[0],10)\n",
    "ylim(0.49,1.21)\n",
    "\n",
    "x = np.linspace(0,10,100)\n",
    "plot(x, beta_from_R(x,mp),'r')\n",
    "plot(x, beta_from_R(x,md),'b')"
   ]
  },
  {
   "cell_type": "markdown",
   "metadata": {},
   "source": [
    "# Making BQ clear"
   ]
  },
  {
   "cell_type": "code",
   "execution_count": 8,
   "metadata": {
    "collapsed": false
   },
   "outputs": [
    {
     "name": "stderr",
     "output_type": "stream",
     "text": [
      "/afs/cern.ch/user/k/kostams/Virualenv/ipython/lib/python2.7/site-packages/Crypto/Util/number.py:57: PowmInsecureWarning: Not using mpz_powm_sec.  You should rebuild using libgmp >= 5 to avoid timing attack vulnerability.\n",
      "  _warn(\"Not using mpz_powm_sec.  You should rebuild using libgmp >= 5 to avoid timing attack vulnerability.\", PowmInsecureWarning)\n"
     ]
    }
   ],
   "source": [
    "import bq\n",
    "from histQueryFactory import *\n",
    "client = bq.Client.Get()"
   ]
  },
  {
   "cell_type": "code",
   "execution_count": 9,
   "metadata": {
    "collapsed": false
   },
   "outputs": [],
   "source": [
    "schema = client.GetTableSchema({\n",
    "    'projectId': 'ams-test-kostya', \n",
    "    'datasetId': 'AMS',  \n",
    "    'tableId': 'protonsB1034'\n",
    "})\n",
    "\n",
    "bitFields = None\n",
    "for field in schema['fields']:\n",
    "    if field['name'] != 'selStatus': \n",
    "        continue\n",
    "    bitFields = field['description'].split(',')\n",
    "    break\n",
    "    \n",
    "get_cumulative_mask = lambda sel: (1 << (bitFields.index(sel))) - 1"
   ]
  },
  {
   "cell_type": "code",
   "execution_count": 11,
   "metadata": {
    "collapsed": true
   },
   "outputs": [],
   "source": [
    "import itertools\n",
    "def iterpairs(l):\n",
    "    i1,i2 = itertools.tee(l); next(i2)\n",
    "    return((x1,x2) for x1,x2 in itertools.izip(i1,i2))\n",
    "\n",
    "def build_case_string(var, name, bins):\n",
    "    casestr = [\"CASE\"]\n",
    "    casestr += [\"  WHEN {1} < {0} AND {0} < {2} THEN {3}\".format(var,s,e,n)\n",
    "                 for n,(s,e)  in enumerate(iterpairs(bins))]\n",
    "    casestr += [\"  ELSE -1\",  \"END as {0}\".format(name)]\n",
    "    return '\\n'.join(casestr)"
   ]
  },
  {
   "cell_type": "markdown",
   "metadata": {},
   "source": [
    "# Beta matrix"
   ]
  },
  {
   "cell_type": "code",
   "execution_count": 12,
   "metadata": {
    "collapsed": false
   },
   "outputs": [
    {
     "name": "stdout",
     "output_type": "stream",
     "text": [
      "\r",
      "Waiting on bqjob_r699489ddf13f72c0_0000014e20c57765_1 ... (0s) Current status: DONE   \n"
     ]
    }
   ],
   "source": [
    "vs =  \",\\n\".join([ build_case_string(\"BetaTOF\", \"B_bin\", betaMeasured),\n",
    "                   build_case_string(\"GenMomentum/SQRT(0.88022 + POW(GenMomentum,2))\", \"Gen_bin\", betaTheoretic),\n",
    "                   \"COUNT(1) as count\" ])\n",
    "\n",
    "h = \"SELECT\\n\" + vs + \"\"\"\n",
    "FROM\n",
    "   AMS.protonsB1034\n",
    "WHERE\n",
    "   selStatus&2097151=2097151\n",
    "GROUP BY B_bin,Gen_bin\n",
    "ORDER BY B_bin,Gen_bin\"\"\"\n",
    "\n",
    "tableid = client.Query(str(h))['configuration']['query']['destinationTable']\n",
    "bq_table = client.ReadTableRows(tableid)"
   ]
  },
  {
   "cell_type": "code",
   "execution_count": 13,
   "metadata": {
    "collapsed": false
   },
   "outputs": [],
   "source": [
    "frame = pd.DataFrame(bq_table, columns=['Bbin', 'GenBin', 'Count']).astype(int)\n",
    "frame['Bbin'] = frame['Bbin'].map(lambda x: betaMeasured[x] )\n",
    "frame['GenBin'] = frame['GenBin'].map(lambda x: betaTheoretic[x] )\n",
    "frame = frame.set_index(list(frame.columns[:-1])).unstack()['Count'].fillna(0)"
   ]
  },
  {
   "cell_type": "code",
   "execution_count": 14,
   "metadata": {
    "collapsed": true
   },
   "outputs": [],
   "source": [
    "frame.T.to_csv(\"./datasets/B_resolution.csv\")"
   ]
  },
  {
   "cell_type": "code",
   "execution_count": 15,
   "metadata": {
    "collapsed": false
   },
   "outputs": [
    {
     "data": {
      "text/plain": [
       "(0.6, 1.4)"
      ]
     },
     "execution_count": 15,
     "metadata": {},
     "output_type": "execute_result"
    },
    {
     "data": {
      "image/png": "[encoded data removed]",
      "text/plain": [
       "<matplotlib.figure.Figure at 0x5cd6810>"
      ]
     },
     "metadata": {},
     "output_type": "display_data"
    }
   ],
   "source": [
    "figsize(5,4)\n",
    "cc = plot_matrix(frame.ix[frame.index[:-1]][frame.columns[:-1]],\n",
    "           norm=LogNorm(vmin=1,vmax=10**6))\n",
    "colorbar(cc)\n",
    "xlabel(\"$\\\\beta$ True\")\n",
    "ylabel(\"$\\\\beta$ Measured\")\n",
    "ylim(0.6,1.4)"
   ]
  },
  {
   "cell_type": "code",
   "execution_count": null,
   "metadata": {
    "collapsed": true
   },
   "outputs": [],
   "source": []
  },
  {
   "cell_type": "markdown",
   "metadata": {},
   "source": [
    "# Rigidity matrix"
   ]
  },
  {
   "cell_type": "code",
   "execution_count": 16,
   "metadata": {
    "collapsed": false
   },
   "outputs": [
    {
     "name": "stdout",
     "output_type": "stream",
     "text": [
      "\r",
      "Waiting on bqjob_r292806ff37cd635e_0000014e20c5ba90_2 ... (0s) Current status: DONE   \n"
     ]
    }
   ],
   "source": [
    "vs =  \",\\n\".join([ build_case_string(\"R\", \"R_bin\", rgdtMeasured),\n",
    "                   build_case_string(\"GenMomentum\", \"Gen_bin\", rgdtTheoretic),\n",
    "                   \"COUNT(1) as count\" ])\n",
    "\n",
    "h = \"SELECT\\n\" + vs + \"\"\"\n",
    "FROM\n",
    "   AMS.protonsB1034\n",
    "WHERE\n",
    "   selStatus&2097151=2097151\n",
    "GROUP BY R_bin,Gen_bin\n",
    "ORDER BY R_bin,Gen_bin\"\"\"\n",
    "\n",
    "tableid = client.Query(str(h))['configuration']['query']['destinationTable']\n",
    "bq_table = client.ReadTableRows(tableid)"
   ]
  },
  {
   "cell_type": "code",
   "execution_count": 17,
   "metadata": {
    "collapsed": false
   },
   "outputs": [],
   "source": [
    "frame = pd.DataFrame(bq_table, columns=['Rbin', 'GenBin', 'Count']).astype(int)\n",
    "frame['Rbin'] = frame['Rbin'].map(lambda x: rgdtMeasured[x] )\n",
    "frame['GenBin'] = frame['GenBin'].map(lambda x: rgdtTheoretic[x] )\n",
    "frame = frame.set_index(list(frame.columns[:-1])).unstack()['Count'].fillna(0)"
   ]
  },
  {
   "cell_type": "code",
   "execution_count": 18,
   "metadata": {
    "collapsed": true
   },
   "outputs": [],
   "source": [
    "frame.T.to_csv(\"./datasets/R_resolution.csv\")"
   ]
  },
  {
   "cell_type": "code",
   "execution_count": 19,
   "metadata": {
    "collapsed": false
   },
   "outputs": [
    {
     "data": {
      "text/plain": [
       "(0.5, 10)"
      ]
     },
     "execution_count": 19,
     "metadata": {},
     "output_type": "execute_result"
    },
    {
     "data": {
      "image/png": "[encoded data removed]",
      "text/plain": [
       "<matplotlib.figure.Figure at 0x62cf910>"
      ]
     },
     "metadata": {},
     "output_type": "display_data"
    }
   ],
   "source": [
    "figsize(5,4)\n",
    "cc = plot_matrix(frame.ix[frame.index[:-1]][frame.columns[:-1]],\n",
    "           norm=LogNorm(vmin=1,vmax=10**6))\n",
    "colorbar(cc)\n",
    "xlabel(\"$R$ True\")\n",
    "ylabel(\"$R$ Measured\")\n",
    "xlim(0.5,10)"
   ]
  },
  {
   "cell_type": "markdown",
   "metadata": {
    "collapsed": true
   },
   "source": [
    "#Target"
   ]
  },
  {
   "cell_type": "code",
   "execution_count": 45,
   "metadata": {
    "collapsed": false
   },
   "outputs": [
    {
     "name": "stdout",
     "output_type": "stream",
     "text": [
      "Waiting on bqjob_rb8cea54ece4606_0000014e20d9caa4_7 ... (0s) Current status: DONE   \n"
     ]
    }
   ],
   "source": [
    "vs =  \",\\n\".join([ build_case_string(\"R\", \"R_bin\", rgdtMeasured),\n",
    "                   build_case_string(\"BetaTOF\", \"B_bin\", betaMeasured),\n",
    "                   \"COUNT(1) as count\" ])\n",
    "\n",
    "h = \"SELECT\\n\" + vs + \"\"\"\n",
    "FROM\n",
    "   AMS.Data\n",
    "WHERE\n",
    "   selStatus&2097151=2097151 AND\n",
    "   Livetime > 0.5 AND\n",
    "   ABS(Latitude) > 1.0\n",
    "GROUP BY R_bin,B_bin\n",
    "ORDER BY R_bin,B_bin\"\"\"\n",
    "tableid = client.Query(str(h))['configuration']['query']['destinationTable']\n",
    "bq_table = client.ReadTableRows(tableid)"
   ]
  },
  {
   "cell_type": "code",
   "execution_count": 46,
   "metadata": {
    "collapsed": false
   },
   "outputs": [],
   "source": [
    "frame = pd.DataFrame(bq_table, columns=['Rbin', 'Beta', 'Count']).astype(int)\n",
    "frame['Rbin'] = frame['Rbin'].map(lambda x: rgdtMeasured[x] )\n",
    "frame['Beta'] = frame['Beta'].map(lambda x: betaMeasured[x] )\n",
    "frame = frame.set_index(list(frame.columns[:-1])).unstack()['Count'].fillna(0)\n",
    "frame = frame.T"
   ]
  },
  {
   "cell_type": "code",
   "execution_count": 47,
   "metadata": {
    "collapsed": false
   },
   "outputs": [
    {
     "data": {
      "text/plain": [
       "(0.5, 1.3)"
      ]
     },
     "execution_count": 47,
     "metadata": {},
     "output_type": "execute_result"
    },
    {
     "data": {
      "image/png": "[encoded data removed]",
      "text/plain": [
       "<matplotlib.figure.Figure at 0x7dbc950>"
      ]
     },
     "metadata": {},
     "output_type": "display_data"
    }
   ],
   "source": [
    "figsize(13,6)\n",
    "cc = plot_matrix(frame.ix[frame.index[:-1]][frame.columns[:-1]],\n",
    "           norm=LogNorm(vmin=1,vmax=10**6))\n",
    "colorbar(cc)\n",
    "xlabel(\"$R$ Measured\")\n",
    "ylabel(\"$\\\\beta$ Measured\")\n",
    "xlim(0.5,5)\n",
    "ylim(0.5,1.3)"
   ]
  },
  {
   "cell_type": "code",
   "execution_count": 50,
   "metadata": {
    "collapsed": true
   },
   "outputs": [],
   "source": [
    "np.savetxt(\"datasets/observed_data.txt\",frame.values)"
   ]
  },
  {
   "cell_type": "code",
   "execution_count": null,
   "metadata": {
    "collapsed": true
   },
   "outputs": [],
   "source": []
  }
 ],
 "metadata": {
  "kernelspec": {
   "display_name": "Python 2",
   "language": "python",
   "name": "python2"
  },
  "language_info": {
   "codemirror_mode": {
    "name": "ipython",
    "version": 2
   },
   "file_extension": ".py",
   "mimetype": "text/x-python",
   "name": "python",
   "nbconvert_exporter": "python",
   "pygments_lexer": "ipython2",
   "version": "2.7.6"
  }
 },
 "nbformat": 4,
 "nbformat_minor": 0
}
