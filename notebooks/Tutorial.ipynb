{
 "cells": [
  {
   "cell_type": "code",
   "execution_count": 1,
   "metadata": {
    "collapsed": false
   },
   "outputs": [
    {
     "name": "stdout",
     "output_type": "stream",
     "text": [
      "Populating the interactive namespace from numpy and matplotlib\n"
     ]
    }
   ],
   "source": [
    "import bq\n",
    "import pandas as pd\n",
    "%pylab inline"
   ]
  },
  {
   "cell_type": "code",
   "execution_count": 2,
   "metadata": {
    "collapsed": false
   },
   "outputs": [],
   "source": [
    "client = bq.Client.Get()"
   ]
  },
  {
   "cell_type": "code",
   "execution_count": 3,
   "metadata": {
    "collapsed": false
   },
   "outputs": [],
   "source": [
    "# That gets you the schema with descriptions\n",
    "schema = client.GetTableSchema({\n",
    "    'projectId': 'ams-test-kostya', \n",
    "    'datasetId': 'full_test',  \n",
    "    'tableId': 'full_test'\n",
    "})\n",
    "\n",
    "# Function that gets you the mask\n",
    "bitFields = None\n",
    "for field in schema['fields']:\n",
    "    if field['name'] != 'selStatus': \n",
    "        continue\n",
    "    bitFields = field['description'].split(',')\n",
    "    break\n",
    "    \n",
    "get_cumulative_mask = lambda sel: (1 << bitFields.index(sel)) - 1"
   ]
  },
  {
   "cell_type": "code",
   "execution_count": 12,
   "metadata": {
    "collapsed": false
   },
   "outputs": [
    {
     "name": "stdout",
     "output_type": "stream",
     "text": [
      "Waiting on bqjob_r63d858eead21f99a_0000014d2454794e_2 ... (1s) Current status: DONE   \n"
     ]
    }
   ],
   "source": [
    "query = \"\"\"\n",
    "SELECT\n",
    "  ROUND(10*R)/10 as RR,\n",
    "  ROUND(100*BetaTOF)/100 as B,\n",
    "  COUNT(1) as count\n",
    "FROM\n",
    "  full_test.full_test\n",
    "WHERE\n",
    "  R >= 0 AND R <= 10 AND BetaTOF < 1 AND BetaTOF > 0.4  AND\n",
    "  R > Rcutoff AND selStatus&{mask}={mask}\n",
    "GROUP BY RR, B\n",
    "ORDER BY RR, B\n",
    "\"\"\".format(mask=get_cumulative_mask('aRing'))\n",
    "\n",
    "tableid = client.Query(query)['configuration']['query']['destinationTable']\n",
    "bq_table = client.ReadTableRows(tableid)"
   ]
  },
  {
   "cell_type": "code",
   "execution_count": 13,
   "metadata": {
    "collapsed": false
   },
   "outputs": [],
   "source": [
    "# Converting that to pandas dataframe\n",
    "frame = pd.DataFrame(np.array(bq_table).astype(float), columns=['R','Beta','Count'])\n",
    "frame = frame.set_index(['Beta','R']).unstack()['Count']\n",
    "frame = frame.fillna(0).sort_index(ascending=False)"
   ]
  },
  {
   "cell_type": "code",
   "execution_count": 14,
   "metadata": {
    "collapsed": false
   },
   "outputs": [
    {
     "data": {
      "text/plain": [
       "<matplotlib.colorbar.Colorbar instance at 0x56a4ec68>"
      ]
     },
     "execution_count": 14,
     "metadata": {},
     "output_type": "execute_result"
    },
    {
     "data": {
      "image/png": "[encoded data removed]",
      "text/plain": [
       "<matplotlib.figure.Figure at 0x7d262e90>"
      ]
     },
     "metadata": {},
     "output_type": "display_data"
    }
   ],
   "source": [
    "from matplotlib.colors import LogNorm\n",
    "\n",
    "x,y = np.meshgrid(\n",
    "    np.array(frame.index, dtype=float),\n",
    "    np.array(frame.columns, dtype=float)\n",
    ")\n",
    "\n",
    "z = frame.T.values.astype(float)\n",
    "\n",
    "figsize(10,8)\n",
    "pcolor(y,x,z, norm=LogNorm(vmin=1,vmax=z.max()))\n",
    "colorbar()"
   ]
  }
 ],
 "metadata": {
  "kernelspec": {
   "display_name": "Python 2",
   "language": "python",
   "name": "python2"
  },
  "language_info": {
   "codemirror_mode": {
    "name": "ipython",
    "version": 2
   },
   "file_extension": ".py",
   "mimetype": "text/x-python",
   "name": "python",
   "nbconvert_exporter": "python",
   "pygments_lexer": "ipython2",
   "version": "2.7.6"
  }
 },
 "nbformat": 4,
 "nbformat_minor": 0
}
